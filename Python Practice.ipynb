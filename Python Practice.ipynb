{
 "cells": [
  {
   "cell_type": "code",
   "execution_count": 1,
   "id": "c7231893",
   "metadata": {},
   "outputs": [
    {
     "name": "stdout",
     "output_type": "stream",
     "text": [
      "Hello World\n"
     ]
    }
   ],
   "source": [
    "#Hello World\n",
    "\n",
    "\n",
    "print(\"Hello World\")"
   ]
  },
  {
   "cell_type": "code",
   "execution_count": 2,
   "id": "70149249",
   "metadata": {},
   "outputs": [
    {
     "name": "stdout",
     "output_type": "stream",
     "text": [
      "Enter your Name: mujeeb\n",
      "Hello mujeeb!\n"
     ]
    }
   ],
   "source": [
    "#user input\n",
    "\n",
    "\n",
    "name = input(\"Enter your Name: \" )\n",
    "print(\"Hello \"+ name+\"!\")"
   ]
  },
  {
   "cell_type": "code",
   "execution_count": 5,
   "id": "cdfe4fa5",
   "metadata": {},
   "outputs": [
    {
     "name": "stdout",
     "output_type": "stream",
     "text": [
      "Enter a Number: 3.0\n",
      "Enter another Number: 56\n",
      "59.0\n"
     ]
    }
   ],
   "source": [
    "#calculator\n",
    "\n",
    "num1=input(\"Enter a Number: \")\n",
    "num2=input(\"Enter another Number: \")\n",
    "result=float(num1) + float(num2)\n",
    "\n",
    "print(result)"
   ]
  },
  {
   "cell_type": "code",
   "execution_count": 12,
   "id": "bed33a20",
   "metadata": {},
   "outputs": [
    {
     "name": "stdout",
     "output_type": "stream",
     "text": [
      "5\n",
      "8\n",
      "6.0\n",
      "4\n",
      "3\n",
      "3\n"
     ]
    }
   ],
   "source": [
    "#math\n",
    "\n",
    "from math import *\n",
    "\n",
    "print(min(5,6))\n",
    "print(max(7,8))\n",
    "print(sqrt(36))\n",
    "print(round(3.7))\n",
    "print(ceil(2.1))\n",
    "print(floor(3.5))"
   ]
  },
  {
   "cell_type": "code",
   "execution_count": 14,
   "id": "15f43ad9",
   "metadata": {},
   "outputs": [
    {
     "name": "stdout",
     "output_type": "stream",
     "text": [
      "Enter Color: Red \n",
      "Enter Violets Color: Blue\n",
      "Roses are Red \n",
      "Violets are Blue\n",
      "I love You\n"
     ]
    }
   ],
   "source": [
    "#mad libs Game\n",
    "\n",
    "color=input(\"Enter Color: \")\n",
    "color_Violets=input(\"Enter Violets Color: \")\n",
    "\n",
    "print(\"Roses are \"+ color)\n",
    "print(\"Violets are \"+ color_Violets)\n",
    "print(\"I love You\")\n"
   ]
  },
  {
   "cell_type": "code",
   "execution_count": 2,
   "id": "37c8c574",
   "metadata": {},
   "outputs": [
    {
     "name": "stdout",
     "output_type": "stream",
     "text": [
      "my name is mujeeb\n",
      "MY NAME IS MUJEEB\n",
      "17\n",
      "M\n",
      "False\n",
      "True\n",
      "True\n",
      "Ny name is Nujeeb\n",
      "0\n"
     ]
    }
   ],
   "source": [
    "#Strings\n",
    "\n",
    "string=\"My name is Mujeeb\"\n",
    "\n",
    "print(string.lower())\n",
    "print(string.upper())\n",
    "print(len(string))\n",
    "print(string[0])\n",
    "print(string.islower())\n",
    "print(string.lower().islower())\n",
    "print(\"M\" in string)\n",
    "print(string.replace(\"M\",\"N\"))\n",
    "print(string.index(\"M\"))\n"
   ]
  },
  {
   "cell_type": "code",
   "execution_count": 14,
   "id": "d51b925f",
   "metadata": {},
   "outputs": [
    {
     "name": "stdout",
     "output_type": "stream",
     "text": [
      "['Mujeeb', 'God', 'Top']\n",
      "Mujeeb\n",
      "Top\n",
      "['Johnny', 'God', 'Top']\n",
      "['God', 'Top']\n",
      "['Johnny', 'God']\n",
      "['Johnny', 'God']\n",
      "['Johnny', 'God', 'Top', 3, 4, 2, 1]\n",
      "1\n",
      "['In', 'Mujeeb', 'pop']\n",
      "['pop', 'Mujeeb', 'In']\n"
     ]
    }
   ],
   "source": [
    "#Lists\n",
    "mujeeb=[3,4,2,1]\n",
    "my_List=[\"Mujeeb\" , \"God\" , \"Top\"]\n",
    "print(my_List)\n",
    "print(my_List[0])\n",
    "print(my_List[-1])\n",
    "my_List[0]=\"Johnny\"\n",
    "print(my_List)\n",
    "print(my_List[1:])\n",
    "print(my_List[0:2])\n",
    "print(my_List[:2])\n",
    "\n",
    "#list1=input(\"Enter a List : \")\n",
    "#print(list1)\n",
    "my_List.extend(mujeeb)\n",
    "print(my_List)\n",
    "print(my_List.pop())\n",
    "non=[\"Mujeeb\" , \"pop\" , \"In\"]\n",
    "non.sort()\n",
    "print(non)\n",
    "non.reverse()\n",
    "print(non)"
   ]
  },
  {
   "cell_type": "code",
   "execution_count": 18,
   "id": "fb1aa539",
   "metadata": {},
   "outputs": [
    {
     "name": "stdout",
     "output_type": "stream",
     "text": [
      "(0, 1, 2)\n",
      "0\n",
      "[(7, 8), (9, 0)]\n",
      "[(7, 8), (1, 2)]\n"
     ]
    }
   ],
   "source": [
    "#Tuple\n",
    "\n",
    "Joni=(0,1,2)\n",
    "print(Joni)\n",
    "print(Joni[0])\n",
    "\n",
    "#Tuple are immutable, once created can't change\n",
    "#we can create Tuple in a list\n",
    "\n",
    "list1=[(7,8) , (9,0)]\n",
    "print(list1)\n",
    "list1[1]=1,2 #we can change the list bcz they are mutable\n",
    "print(list1)\n"
   ]
  },
  {
   "cell_type": "code",
   "execution_count": 25,
   "id": "589e7e32",
   "metadata": {},
   "outputs": [
    {
     "name": "stdout",
     "output_type": "stream",
     "text": [
      "Lets Start Mujeeb\n",
      "Do it Mujeeb\n"
     ]
    }
   ],
   "source": [
    "#Functions\n",
    "\n",
    "# syntax\n",
    "#  def function_name(parameters)\n",
    "# indentation  print(..............)\n",
    "# call function by writing function name\n",
    "\n",
    "def let_start(name):\n",
    "    print(\"Lets Start \"+ name )\n",
    "    print(\"Do it \"+name)\n",
    "let_start(\"Mujeeb\")\n"
   ]
  },
  {
   "cell_type": "code",
   "execution_count": 4,
   "id": "7f6a8174",
   "metadata": {},
   "outputs": [
    {
     "name": "stdout",
     "output_type": "stream",
     "text": [
      " Hello Mujeeb\n",
      " According to Your information You are 19\n"
     ]
    }
   ],
   "source": [
    "def say_hi(name,age):\n",
    "    print(\" Hello \"+name)\n",
    "    print(\" According to Your information You are \"+age)\n",
    "say_hi(\"Mujeeb\", \"19\")"
   ]
  },
  {
   "cell_type": "code",
   "execution_count": 7,
   "id": "b70e337b",
   "metadata": {},
   "outputs": [
    {
     "data": {
      "text/plain": [
       "98.0"
      ]
     },
     "execution_count": 7,
     "metadata": {},
     "output_type": "execute_result"
    }
   ],
   "source": [
    "#Force Formula Function\n",
    "#Return Statement in Python\n",
    "\n",
    "def force(mass,acceleration):\n",
    "    return mass*acceleration\n",
    "\n",
    "force(10,9.8)\n"
   ]
  },
  {
   "cell_type": "code",
   "execution_count": 11,
   "id": "84a19253",
   "metadata": {},
   "outputs": [
    {
     "name": "stdout",
     "output_type": "stream",
     "text": [
      "Enter mass: 10\n",
      "Enter Acceleration: 9.8\n"
     ]
    },
    {
     "data": {
      "text/plain": [
       "98.0"
      ]
     },
     "execution_count": 11,
     "metadata": {},
     "output_type": "execute_result"
    }
   ],
   "source": [
    "#User Defined Function\n",
    "\n",
    "def force(mass,acceleration):\n",
    "    return mass*acceleration\n",
    "\n",
    "mass=input(\"Enter mass: \")\n",
    "acceleration=input(\"Enter Acceleration: \")\n",
    "\n",
    "force(float(mass),float(acceleration))"
   ]
  },
  {
   "cell_type": "code",
   "execution_count": 12,
   "id": "9d4835c0",
   "metadata": {},
   "outputs": [
    {
     "name": "stdout",
     "output_type": "stream",
     "text": [
      "You are a Male\n"
     ]
    }
   ],
   "source": [
    "#If Else in Python\n",
    "\n",
    "is_Male=True\n",
    "\n",
    "if is_Male:\n",
    "    print(\"You are a Male\")\n",
    "else: \n",
    "    print(\"You are Not Male\")"
   ]
  },
  {
   "cell_type": "code",
   "execution_count": 18,
   "id": "7d4cc324",
   "metadata": {},
   "outputs": [
    {
     "name": "stdout",
     "output_type": "stream",
     "text": [
      "You are a male and Tall also\n"
     ]
    }
   ],
   "source": [
    "#Use of Else If in Python\n",
    "\n",
    "is_male = True\n",
    "is_tall = False\n",
    "\n",
    "if is_male and is_tall:\n",
    "    print(\"You are a male and Tall\")\n",
    "elif is_male and not(is_tall):\n",
    "    print(\"You are not Tall\")\n",
    "else:\n",
    "    print(\"You are not a male and not tall also\")"
   ]
  },
  {
   "cell_type": "code",
   "execution_count": 19,
   "id": "8ce23fef",
   "metadata": {},
   "outputs": [
    {
     "name": "stdout",
     "output_type": "stream",
     "text": [
      "Enter 1st Number: 20\n",
      "Enter 2nd Number: 30\n",
      "Enter 3rd Number: 40\n"
     ]
    },
    {
     "data": {
      "text/plain": [
       "40.0"
      ]
     },
     "execution_count": 19,
     "metadata": {},
     "output_type": "execute_result"
    }
   ],
   "source": [
    "#User defined function for max number\n",
    "\n",
    "\n",
    "def max_num(num1 , num2 , num3):\n",
    "    if num1>=num2 and num1>=3:\n",
    "        return num1\n",
    "    elif num2>=num1 and num2>=num3:\n",
    "        return num2\n",
    "    else:\n",
    "        return num3\n",
    "\n",
    "num1=input(\"Enter 1st Number: \")\n",
    "num2=input(\"Enter 2nd Number: \")\n",
    "num3=input(\"Enter 3rd Number: \")\n",
    "\n",
    "max_num(float(num1),float(num2),float(num3))"
   ]
  },
  {
   "cell_type": "code",
   "execution_count": 23,
   "id": "10ae418d",
   "metadata": {},
   "outputs": [
    {
     "name": "stdout",
     "output_type": "stream",
     "text": [
      "Enter 1st Number: 90\n",
      "Enter Operator: &\n",
      "Enter 2nd Number: 80\n",
      "Invalid Operator \n"
     ]
    }
   ],
   "source": [
    "#Calculator Using If Else\n",
    "\n",
    "num1 = float(input(\"Enter 1st Number: \"))\n",
    "op = input(\"Enter Operator: \")\n",
    "num2 = float(input(\"Enter 2nd Number: \"))\n",
    "\n",
    "if op == \"+\":\n",
    "    print(num1 + num2)\n",
    "elif op == \"-\":\n",
    "    print(num1 - num2)\n",
    "elif op == \"*\":\n",
    "    print(num1 * num2)\n",
    "elif op == \"%\":\n",
    "    print(num1 % num2)\n",
    "elif op == \"/\":\n",
    "    print(num1 / num2)\n",
    "else:\n",
    "    print(\"Invalid Operator \")"
   ]
  },
  {
   "cell_type": "code",
   "execution_count": 1,
   "id": "7fca5a1e",
   "metadata": {},
   "outputs": [
    {
     "name": "stdout",
     "output_type": "stream",
     "text": [
      "Monday\n",
      "Friday\n",
      "dict_keys([1, 2, 3, 4, 5, 6, 7])\n",
      "dict_values(['Monday', 'Tuesday', 'Wednesday', 'Thrusday', 'Friday', 'Saturday', 'Sunday'])\n"
     ]
    }
   ],
   "source": [
    "#Dictionaries\n",
    "\n",
    "\n",
    "weekDays = {\n",
    "    1 : \"Monday\",\n",
    "    2 : \"Tuesday\",\n",
    "    3 : \"Wednesday\",\n",
    "    4 : \"Thrusday\",\n",
    "    5 : \"Friday\",\n",
    "    6 : \"Saturday\",\n",
    "    7 : \"Sunday\"\n",
    "    \n",
    "}\n",
    "#Two way to access dictionary elements\n",
    "\n",
    "print(weekDays.get(1))\n",
    "print(weekDays[5])\n",
    "print(weekDays.keys())\n",
    "print(weekDays.values())"
   ]
  },
  {
   "cell_type": "code",
   "execution_count": 2,
   "id": "f65b2ce5",
   "metadata": {},
   "outputs": [
    {
     "name": "stdout",
     "output_type": "stream",
     "text": [
      "1\n",
      "2\n",
      "3\n",
      "4\n",
      "5\n",
      "6\n",
      "7\n",
      "8\n",
      "9\n",
      "10\n",
      "Done\n"
     ]
    }
   ],
   "source": [
    "#While loop\n",
    "\n",
    "i = 1\n",
    "while i <= 10:\n",
    "    print(i)\n",
    "    \n",
    "    i = i+1\n",
    "\n",
    "print(\"Done\")"
   ]
  },
  {
   "cell_type": "code",
   "execution_count": 34,
   "id": "8c0ca28d",
   "metadata": {},
   "outputs": [
    {
     "name": "stdout",
     "output_type": "stream",
     "text": [
      "Enter Guess: Snakes xd\n",
      "You Win!\n"
     ]
    }
   ],
   "source": [
    "#Guess Game\n",
    "\n",
    "secret_word= \"Snakes xd\"\n",
    "guess= \"\"\n",
    "\n",
    "while guess != secret_word:\n",
    "    guess = input(\"Enter Guess: \")\n",
    "    \n",
    "print(\"You Win!\")"
   ]
  },
  {
   "cell_type": "code",
   "execution_count": 36,
   "id": "8a92ba7c",
   "metadata": {},
   "outputs": [
    {
     "name": "stdout",
     "output_type": "stream",
     "text": [
      "Enter Guess: snake\n",
      "Enter Guess: snkae\n",
      "Enter Guess: Snakes xd\n",
      "You Win!\n"
     ]
    }
   ],
   "source": [
    "#Guess Game with limits\n",
    "\n",
    "secret_word = \"Snakes xd\"\n",
    "guess = \"\"\n",
    "guess_count = 0\n",
    "guess_limit = 3\n",
    "out_of_guesses = False\n",
    "\n",
    "\n",
    "while guess != secret_word and not(out_of_guesses):\n",
    "    if guess_count < guess_limit:\n",
    "        \n",
    "        guess = input(\"Enter Guess: \")\n",
    "        guess_count += 1\n",
    "    else:\n",
    "        \n",
    "        out_of_guesses = True\n",
    "if out_of_guesses:\n",
    "    print(\"You are out of Guesses  YOU LOSE!\")\n",
    "else:\n",
    "    print(\"You Win!\")\n"
   ]
  },
  {
   "cell_type": "code",
   "execution_count": 37,
   "id": "a5cc3a19",
   "metadata": {},
   "outputs": [
    {
     "name": "stdout",
     "output_type": "stream",
     "text": [
      "M\n",
      "u\n",
      "j\n",
      "e\n",
      "e\n",
      "b\n"
     ]
    }
   ],
   "source": [
    "#For Loop\n",
    "\n",
    "\n",
    "for i in \"Mujeeb\":\n",
    "    print(i)"
   ]
  },
  {
   "cell_type": "code",
   "execution_count": 38,
   "id": "8b95fdd4",
   "metadata": {},
   "outputs": [
    {
     "name": "stdout",
     "output_type": "stream",
     "text": [
      "Mudasir\n",
      "Umar Iqbal\n",
      "Abdul Rehman\n"
     ]
    }
   ],
   "source": [
    "#For loop in list\n",
    "\n",
    "Mujeeb_BFFs = [\"Mudasir\" , \"Umar Iqbal\" , \"Abdul Rehman\"]\n",
    "\n",
    "for BFFs in Mujeeb_BFFs:\n",
    "    print(BFFs)"
   ]
  },
  {
   "cell_type": "code",
   "execution_count": 40,
   "id": "d897ab45",
   "metadata": {},
   "outputs": [
    {
     "name": "stdout",
     "output_type": "stream",
     "text": [
      "Enter Base Number: 8\n",
      "Enter Power Number: 2\n"
     ]
    },
    {
     "data": {
      "text/plain": [
       "64"
      ]
     },
     "execution_count": 40,
     "metadata": {},
     "output_type": "execute_result"
    }
   ],
   "source": [
    "#Exponent Function\n",
    "\n",
    "def raise_to_power(base_num,power_num):\n",
    "    result = 1\n",
    "    for index in range(power_num):\n",
    "        result = result*base_num\n",
    "    \n",
    "    return result\n",
    "\n",
    "base_num = int(input(\"Enter Base Number: \"))\n",
    "power_num = int(input(\"Enter Power Number: \"))\n",
    "\n",
    "raise_to_power(base_num,power_num)"
   ]
  },
  {
   "cell_type": "code",
   "execution_count": 42,
   "id": "ac1b2d79",
   "metadata": {},
   "outputs": [
    {
     "name": "stdout",
     "output_type": "stream",
     "text": [
      "2\n"
     ]
    }
   ],
   "source": [
    "#2D or Nested Lists\n",
    "\n",
    "number = [\n",
    "    [0, 2 , 4 , 5],\n",
    "    [4, 6 , 7 , 8],\n",
    "    [0, 3 , 5 , 9]\n",
    "]\n",
    "\n",
    "#to access them follow this syntax\n",
    "# print(list_name[row number][column number])\n",
    "\n",
    "print(number[0][1])"
   ]
  },
  {
   "cell_type": "code",
   "execution_count": 43,
   "id": "b2c94480",
   "metadata": {},
   "outputs": [
    {
     "name": "stdout",
     "output_type": "stream",
     "text": [
      "[0, 2, 4, 5]\n",
      "[4, 6, 7, 8]\n",
      "[0, 3, 5, 9]\n"
     ]
    }
   ],
   "source": [
    "#2D or Nested Lists\n",
    "\n",
    "number = [\n",
    "    [0, 2 , 4 , 5],\n",
    "    [4, 6 , 7 , 8],\n",
    "    [0, 3 , 5 , 9]\n",
    "]\n",
    "\n",
    "#for printing all rows we gonna use for loop \n",
    "\n",
    "for row in number:\n",
    "    print(row)"
   ]
  },
  {
   "cell_type": "code",
   "execution_count": 45,
   "id": "2d8f1c5b",
   "metadata": {},
   "outputs": [
    {
     "name": "stdout",
     "output_type": "stream",
     "text": [
      "0\n",
      "2\n",
      "4\n",
      "5\n",
      "4\n",
      "6\n",
      "7\n",
      "8\n",
      "0\n",
      "3\n",
      "5\n",
      "9\n"
     ]
    }
   ],
   "source": [
    "#2D or Nested Lists\n",
    "\n",
    "number = [\n",
    "    [0, 2 , 4 , 5],\n",
    "    [4, 6 , 7 , 8],\n",
    "    [0, 3 , 5 , 9]\n",
    "]\n",
    "\n",
    "#for printing all columns we gonna use another for loop \n",
    "\n",
    "for row in number:\n",
    "    for col in row:\n",
    "        print(col)\n",
    "   "
   ]
  },
  {
   "cell_type": "code",
   "execution_count": 7,
   "id": "5eab3755",
   "metadata": {},
   "outputs": [
    {
     "name": "stdout",
     "output_type": "stream",
     "text": [
      "Enter a phrase: mujeeb ur rEhman\n",
      "mmjmmb mr rMhmmn\n"
     ]
    }
   ],
   "source": [
    "#Builiding a translator\n",
    "\n",
    "def translate(phrase):\n",
    "    translation = \"\"\n",
    "    for letter in phrase:\n",
    "        if letter in \"AEIOUaeiou\":\n",
    "            if letter.isupper():\n",
    "                translation = translation + \"M\"\n",
    "            else:\n",
    "                translation = translation + \"m\"\n",
    "        else:\n",
    "            translation = translation + letter\n",
    "            \n",
    "    return translation\n",
    "\n",
    "print(translate(input(\"Enter a phrase: \")))"
   ]
  },
  {
   "cell_type": "code",
   "execution_count": 8,
   "id": "5c15715a",
   "metadata": {},
   "outputs": [
    {
     "name": "stdout",
     "output_type": "stream",
     "text": [
      "Enter a number: mujeeb\n",
      "Invalid Input \n"
     ]
    }
   ],
   "source": [
    "#Try/Except\n",
    "\n",
    "try:\n",
    "    number = int(input(\"Enter a number: \"))\n",
    "    print(number)\n",
    "except:\n",
    "    print(\"Invalid Input \")"
   ]
  },
  {
   "cell_type": "code",
   "execution_count": 12,
   "id": "a26163f0",
   "metadata": {},
   "outputs": [
    {
     "name": "stdout",
     "output_type": "stream",
     "text": [
      "5\n"
     ]
    }
   ],
   "source": [
    "#Class\n",
    "\n",
    "class Myclass:\n",
    "        x = 5\n",
    "        \n",
    "#Simple Object\n",
    "\n",
    "c1 = Myclass()\n",
    "print(c1.x)"
   ]
  },
  {
   "cell_type": "code",
   "execution_count": 25,
   "id": "fd14f5c4",
   "metadata": {},
   "outputs": [
    {
     "name": "stdout",
     "output_type": "stream",
     "text": [
      "Mujeeb\n",
      "20\n",
      "2049\n"
     ]
    }
   ],
   "source": [
    "#Use of built in function __init__()\n",
    "\n",
    "\n",
    "#Create a Class:\n",
    "\n",
    "class Student:\n",
    "    \n",
    "    #use a built in function:\n",
    "    def __init__(self , name , age , roll_no):\n",
    "        self.name = name\n",
    "        self.age = age\n",
    "        self.roll_no = roll_no\n",
    "        \n",
    "#Create an object of Class:\n",
    "\n",
    "student = Student(\"Mujeeb\" , \"19\" , \"2049\")\n",
    "\n",
    "#Modify Object Properties:\n",
    "\n",
    "student.age  = 20\n",
    "\n",
    "#Del Object Properties:\n",
    "\n",
    "#del student.age\n",
    "\n",
    "#print them all by calling object:\n",
    "\n",
    "print(student.name)\n",
    "print(student.age)\n",
    "print(student.roll_no)"
   ]
  },
  {
   "cell_type": "code",
   "execution_count": 21,
   "id": "48356aec",
   "metadata": {},
   "outputs": [
    {
     "name": "stdout",
     "output_type": "stream",
     "text": [
      "Hello My name is Mujeeb\n",
      "My age is 19\n"
     ]
    }
   ],
   "source": [
    "#Create a Class:\n",
    "class Student:\n",
    "    #Use a built in Function:\n",
    "    def __init__(self, name, age):\n",
    "        self.name = name\n",
    "        self.age = age\n",
    "    #Create a Method that can be accessed by Object to call:\n",
    "    \n",
    "    def myfunc(self):\n",
    "        print(\"Hello My name is \" + self.name)\n",
    "        print(\"My age is \" + str(self.age))\n",
    "        \n",
    "#Create an Object:\n",
    "\n",
    "student = Student(\"Mujeeb\", 19)\n",
    "\n",
    "#Use method to call Object:\n",
    "\n",
    "student.myfunc()"
   ]
  },
  {
   "cell_type": "code",
   "execution_count": 34,
   "id": "110c9081",
   "metadata": {},
   "outputs": [
    {
     "name": "stdout",
     "output_type": "stream",
     "text": [
      "Mujeeb Johnny\n"
     ]
    }
   ],
   "source": [
    "#Inheritance\n",
    "\n",
    "#Creation of Parent Class:\n",
    "\n",
    "class Person:\n",
    "    def __init__(self , first_n , nick_n):\n",
    "        \n",
    "        self.first_n = first_n\n",
    "        self.nick_n = nick_n\n",
    "    \n",
    "    def printit(self):\n",
    "        print(self.first_n , self.nick_n)\n",
    "\n",
    "#Use the Person class to create an object, and then execute the printit method:\n",
    "\n",
    "x = Person(\"Mujeeb\", \"Johnny\")\n",
    "x.printit()\n"
   ]
  },
  {
   "cell_type": "code",
   "execution_count": 35,
   "id": "a4f17bf4",
   "metadata": {},
   "outputs": [
    {
     "name": "stdout",
     "output_type": "stream",
     "text": [
      "Mohammad Mujeeb\n"
     ]
    }
   ],
   "source": [
    "#Inheritance\n",
    "\n",
    "#Creation of Child class:\n",
    "\n",
    "class Person:\n",
    "    def __init__(self , f_name , l_name):\n",
    "        \n",
    "        self.f_name  = f_name\n",
    "        self.l_name  = l_name\n",
    "        \n",
    "    def printit(self):\n",
    "        print(self.f_name , self.l_name)\n",
    "        \n",
    "#At this point we will create a Child class named as stuent:\n",
    "\n",
    "class Student(Person):\n",
    "    pass\n",
    "\n",
    "#And Here Gonna print it using Child Class:\n",
    "\n",
    "x = Student(\"Mohammad\" , \"Mujeeb\")\n",
    "x.printit()"
   ]
  },
  {
   "cell_type": "code",
   "execution_count": 39,
   "id": "87ca4e63",
   "metadata": {},
   "outputs": [
    {
     "name": "stdout",
     "output_type": "stream",
     "text": [
      "Mohammad Mujeeb\n"
     ]
    },
    {
     "data": {
      "text/plain": [
       "'\\nBy using the super() function you do not have to use the name of the parent element \\nit will automatically inherit the methods and properties from its parent.\\n\\n'"
      ]
     },
     "execution_count": 39,
     "metadata": {},
     "output_type": "execute_result"
    }
   ],
   "source": [
    "#Super Function in Inheritance\n",
    "'''\n",
    "Python also has a super() function that will make the child class inherit all \n",
    "the methods and properties from its parent:\n",
    "\n",
    "'''\n",
    "class Person:\n",
    "    def __init__(self, fname, lname):\n",
    "        self.firstname = fname\n",
    "        self.lastname = lname\n",
    "    \n",
    "    def printit(self):\n",
    "        print(self.firstname, self.lastname)\n",
    "      \n",
    "\n",
    "      \n",
    "\n",
    "class Student(Person):\n",
    "      def __init__(self, fname, lname):\n",
    "        super().__init__(fname, lname)\n",
    "\n",
    "x = Student(\"Mohammad\", \"Mujeeb\")\n",
    "x.printit()\n",
    "\n",
    "'''\n",
    "By using the super() function you do not have to use the name of the parent element \n",
    "it will automatically inherit the methods and properties from its parent.\n",
    "\n",
    "'''\n"
   ]
  },
  {
   "cell_type": "code",
   "execution_count": 4,
   "id": "d0e62d3a",
   "metadata": {},
   "outputs": [
    {
     "name": "stdout",
     "output_type": "stream",
     "text": [
      "Mohammad Mujeeb\n"
     ]
    }
   ],
   "source": [
    "#Add __init__ function to inheritance\n",
    "class Person:\n",
    "    def __init__(self, fname, lname):\n",
    "        self.firstname = fname\n",
    "        self.lastname = lname\n",
    "    \n",
    "    def printit(self):\n",
    "        print(self.firstname, self.lastname)\n",
    "      \n",
    "\n",
    "      \n",
    "\n",
    "class Student(Person):\n",
    "      def __init__(self, fname, lname):\n",
    "#This use of Person.__init__(......) will inherit all to Student(Person). \n",
    "#In this you have to use parent name but in super you just need to use super keyword in place of parent\n",
    "        Person.__init__(self , fname, lname)\n",
    "\n",
    "x = Student(\"Mohammad\", \"Mujeeb\")\n",
    "x.printit()\n"
   ]
  },
  {
   "cell_type": "code",
   "execution_count": 19,
   "id": "1fcc1de3",
   "metadata": {},
   "outputs": [
    {
     "name": "stdout",
     "output_type": "stream",
     "text": [
      "You are Welcome Mohammad Mujeeb Graduated in Year2019\n"
     ]
    }
   ],
   "source": [
    "\n",
    "class Person:\n",
    "    def __init__(self, fname, lname , graduatedinyear):\n",
    "        self.firstname = fname\n",
    "        self.lastname = lname\n",
    "        self.graduatedinyear = str(graduatedinyear)\n",
    "    def printit(self):\n",
    "        print(\"You are Welcome \" + self.firstname, self.lastname + \" Graduated in Year \" + self.graduatedinyear)\n",
    "      \n",
    "\n",
    "      \n",
    "\n",
    "class Student(Person):\n",
    "      def __init__(self, fname, lname,graduatedinyear):\n",
    "        super().__init__(fname, lname, graduatedinyear)\n",
    "        \n",
    "        \n",
    "x = Student(\"Mohammad\", \"Mujeeb\",2019)\n",
    "x.printit()\n"
   ]
  },
  {
   "cell_type": "code",
   "execution_count": 2,
   "id": "46dbe214",
   "metadata": {},
   "outputs": [
    {
     "name": "stdout",
     "output_type": "stream",
     "text": [
      "[2, 3]\n"
     ]
    }
   ],
   "source": [
    "#Do_it..........\n",
    "\n",
    "a = 'Python'\n",
    "b = [1,2,3]\n",
    "\n",
    "aTup = (a,b)\n",
    "\n",
    "print(aTup[1][1:])"
   ]
  },
  {
   "cell_type": "code",
   "execution_count": 1,
   "id": "b2b79f19",
   "metadata": {},
   "outputs": [
    {
     "ename": "FileNotFoundError",
     "evalue": "[Errno 2] No such file or directory: 'builtin_functions.png'",
     "output_type": "error",
     "traceback": [
      "\u001b[1;31m---------------------------------------------------------------------------\u001b[0m",
      "\u001b[1;31mFileNotFoundError\u001b[0m                         Traceback (most recent call last)",
      "\u001b[1;32m<ipython-input-1-016a78b9abea>\u001b[0m in \u001b[0;36m<module>\u001b[1;34m\u001b[0m\n\u001b[0;32m      1\u001b[0m \u001b[1;32mfrom\u001b[0m \u001b[0mIPython\u001b[0m\u001b[1;33m.\u001b[0m\u001b[0mdisplay\u001b[0m \u001b[1;32mimport\u001b[0m \u001b[0mdisplay\u001b[0m\u001b[1;33m,\u001b[0m \u001b[0mImage\u001b[0m\u001b[1;33m\u001b[0m\u001b[1;33m\u001b[0m\u001b[0m\n\u001b[1;32m----> 2\u001b[1;33m \u001b[0mdisplay\u001b[0m\u001b[1;33m(\u001b[0m\u001b[0mImage\u001b[0m\u001b[1;33m(\u001b[0m\u001b[0mfilename\u001b[0m\u001b[1;33m=\u001b[0m\u001b[1;34m'builtin_functions.png'\u001b[0m\u001b[1;33m)\u001b[0m\u001b[1;33m)\u001b[0m\u001b[1;33m\u001b[0m\u001b[1;33m\u001b[0m\u001b[0m\n\u001b[0m",
      "\u001b[1;32mD:\\anaconda3\\lib\\site-packages\\IPython\\core\\display.py\u001b[0m in \u001b[0;36m__init__\u001b[1;34m(self, data, url, filename, format, embed, width, height, retina, unconfined, metadata)\u001b[0m\n\u001b[0;32m   1222\u001b[0m         \u001b[0mself\u001b[0m\u001b[1;33m.\u001b[0m\u001b[0mretina\u001b[0m \u001b[1;33m=\u001b[0m \u001b[0mretina\u001b[0m\u001b[1;33m\u001b[0m\u001b[1;33m\u001b[0m\u001b[0m\n\u001b[0;32m   1223\u001b[0m         \u001b[0mself\u001b[0m\u001b[1;33m.\u001b[0m\u001b[0munconfined\u001b[0m \u001b[1;33m=\u001b[0m \u001b[0munconfined\u001b[0m\u001b[1;33m\u001b[0m\u001b[1;33m\u001b[0m\u001b[0m\n\u001b[1;32m-> 1224\u001b[1;33m         super(Image, self).__init__(data=data, url=url, filename=filename, \n\u001b[0m\u001b[0;32m   1225\u001b[0m                 metadata=metadata)\n\u001b[0;32m   1226\u001b[0m \u001b[1;33m\u001b[0m\u001b[0m\n",
      "\u001b[1;32mD:\\anaconda3\\lib\\site-packages\\IPython\\core\\display.py\u001b[0m in \u001b[0;36m__init__\u001b[1;34m(self, data, url, filename, metadata)\u001b[0m\n\u001b[0;32m    628\u001b[0m             \u001b[0mself\u001b[0m\u001b[1;33m.\u001b[0m\u001b[0mmetadata\u001b[0m \u001b[1;33m=\u001b[0m \u001b[1;33m{\u001b[0m\u001b[1;33m}\u001b[0m\u001b[1;33m\u001b[0m\u001b[1;33m\u001b[0m\u001b[0m\n\u001b[0;32m    629\u001b[0m \u001b[1;33m\u001b[0m\u001b[0m\n\u001b[1;32m--> 630\u001b[1;33m         \u001b[0mself\u001b[0m\u001b[1;33m.\u001b[0m\u001b[0mreload\u001b[0m\u001b[1;33m(\u001b[0m\u001b[1;33m)\u001b[0m\u001b[1;33m\u001b[0m\u001b[1;33m\u001b[0m\u001b[0m\n\u001b[0m\u001b[0;32m    631\u001b[0m         \u001b[0mself\u001b[0m\u001b[1;33m.\u001b[0m\u001b[0m_check_data\u001b[0m\u001b[1;33m(\u001b[0m\u001b[1;33m)\u001b[0m\u001b[1;33m\u001b[0m\u001b[1;33m\u001b[0m\u001b[0m\n\u001b[0;32m    632\u001b[0m \u001b[1;33m\u001b[0m\u001b[0m\n",
      "\u001b[1;32mD:\\anaconda3\\lib\\site-packages\\IPython\\core\\display.py\u001b[0m in \u001b[0;36mreload\u001b[1;34m(self)\u001b[0m\n\u001b[0;32m   1254\u001b[0m         \u001b[1;34m\"\"\"Reload the raw data from file or URL.\"\"\"\u001b[0m\u001b[1;33m\u001b[0m\u001b[1;33m\u001b[0m\u001b[0m\n\u001b[0;32m   1255\u001b[0m         \u001b[1;32mif\u001b[0m \u001b[0mself\u001b[0m\u001b[1;33m.\u001b[0m\u001b[0membed\u001b[0m\u001b[1;33m:\u001b[0m\u001b[1;33m\u001b[0m\u001b[1;33m\u001b[0m\u001b[0m\n\u001b[1;32m-> 1256\u001b[1;33m             \u001b[0msuper\u001b[0m\u001b[1;33m(\u001b[0m\u001b[0mImage\u001b[0m\u001b[1;33m,\u001b[0m\u001b[0mself\u001b[0m\u001b[1;33m)\u001b[0m\u001b[1;33m.\u001b[0m\u001b[0mreload\u001b[0m\u001b[1;33m(\u001b[0m\u001b[1;33m)\u001b[0m\u001b[1;33m\u001b[0m\u001b[1;33m\u001b[0m\u001b[0m\n\u001b[0m\u001b[0;32m   1257\u001b[0m             \u001b[1;32mif\u001b[0m \u001b[0mself\u001b[0m\u001b[1;33m.\u001b[0m\u001b[0mretina\u001b[0m\u001b[1;33m:\u001b[0m\u001b[1;33m\u001b[0m\u001b[1;33m\u001b[0m\u001b[0m\n\u001b[0;32m   1258\u001b[0m                 \u001b[0mself\u001b[0m\u001b[1;33m.\u001b[0m\u001b[0m_retina_shape\u001b[0m\u001b[1;33m(\u001b[0m\u001b[1;33m)\u001b[0m\u001b[1;33m\u001b[0m\u001b[1;33m\u001b[0m\u001b[0m\n",
      "\u001b[1;32mD:\\anaconda3\\lib\\site-packages\\IPython\\core\\display.py\u001b[0m in \u001b[0;36mreload\u001b[1;34m(self)\u001b[0m\n\u001b[0;32m    653\u001b[0m         \u001b[1;34m\"\"\"Reload the raw data from file or URL.\"\"\"\u001b[0m\u001b[1;33m\u001b[0m\u001b[1;33m\u001b[0m\u001b[0m\n\u001b[0;32m    654\u001b[0m         \u001b[1;32mif\u001b[0m \u001b[0mself\u001b[0m\u001b[1;33m.\u001b[0m\u001b[0mfilename\u001b[0m \u001b[1;32mis\u001b[0m \u001b[1;32mnot\u001b[0m \u001b[1;32mNone\u001b[0m\u001b[1;33m:\u001b[0m\u001b[1;33m\u001b[0m\u001b[1;33m\u001b[0m\u001b[0m\n\u001b[1;32m--> 655\u001b[1;33m             \u001b[1;32mwith\u001b[0m \u001b[0mopen\u001b[0m\u001b[1;33m(\u001b[0m\u001b[0mself\u001b[0m\u001b[1;33m.\u001b[0m\u001b[0mfilename\u001b[0m\u001b[1;33m,\u001b[0m \u001b[0mself\u001b[0m\u001b[1;33m.\u001b[0m\u001b[0m_read_flags\u001b[0m\u001b[1;33m)\u001b[0m \u001b[1;32mas\u001b[0m \u001b[0mf\u001b[0m\u001b[1;33m:\u001b[0m\u001b[1;33m\u001b[0m\u001b[1;33m\u001b[0m\u001b[0m\n\u001b[0m\u001b[0;32m    656\u001b[0m                 \u001b[0mself\u001b[0m\u001b[1;33m.\u001b[0m\u001b[0mdata\u001b[0m \u001b[1;33m=\u001b[0m \u001b[0mf\u001b[0m\u001b[1;33m.\u001b[0m\u001b[0mread\u001b[0m\u001b[1;33m(\u001b[0m\u001b[1;33m)\u001b[0m\u001b[1;33m\u001b[0m\u001b[1;33m\u001b[0m\u001b[0m\n\u001b[0;32m    657\u001b[0m         \u001b[1;32melif\u001b[0m \u001b[0mself\u001b[0m\u001b[1;33m.\u001b[0m\u001b[0murl\u001b[0m \u001b[1;32mis\u001b[0m \u001b[1;32mnot\u001b[0m \u001b[1;32mNone\u001b[0m\u001b[1;33m:\u001b[0m\u001b[1;33m\u001b[0m\u001b[1;33m\u001b[0m\u001b[0m\n",
      "\u001b[1;31mFileNotFoundError\u001b[0m: [Errno 2] No such file or directory: 'builtin_functions.png'"
     ]
    }
   ],
   "source": [
    "from IPython.display import display, Image\n",
    "display(Image(filename='builtin_functions.png'))"
   ]
  },
  {
   "cell_type": "code",
   "execution_count": null,
   "id": "883ebf61",
   "metadata": {},
   "outputs": [],
   "source": []
  }
 ],
 "metadata": {
  "kernelspec": {
   "display_name": "Python 3",
   "language": "python",
   "name": "python3"
  },
  "language_info": {
   "codemirror_mode": {
    "name": "ipython",
    "version": 3
   },
   "file_extension": ".py",
   "mimetype": "text/x-python",
   "name": "python",
   "nbconvert_exporter": "python",
   "pygments_lexer": "ipython3",
   "version": "3.8.8"
  }
 },
 "nbformat": 4,
 "nbformat_minor": 5
}
